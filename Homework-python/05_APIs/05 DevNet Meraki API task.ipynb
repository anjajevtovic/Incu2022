{
 "cells": [
  {
   "cell_type": "markdown",
   "id": "957cd952-4ba4-4a6f-8267-647262b6ad96",
   "metadata": {},
   "source": [
    "# DevNet - API - Presentation 05"
   ]
  },
  {
   "cell_type": "markdown",
   "id": "2035587d-9882-4b0b-b6ec-debc2e650d55",
   "metadata": {
    "tags": []
   },
   "source": [
    "#### **Task:** Provide API calls to obtain list of clients/hosts on a network using Meraki or DNA"
   ]
  },
  {
   "cell_type": "markdown",
   "id": "058cd68a-e3d8-4afd-9ba9-e8216c6cdab2",
   "metadata": {},
   "source": [
    "#### **Solution:** \n",
    "I have prepared python script that is listing all clients through out whole hierarchy (organisations -> networks -> devices -> clients)"
   ]
  },
  {
   "cell_type": "markdown",
   "id": "40a248f1-02f2-441a-ae5e-deb6bfd8e020",
   "metadata": {},
   "source": [
    "#### **Output:**\n",
    "- output.json -> here is whole hierarchy presented (clients per device per network per organisation)\n",
    "- all_clients_output.json -> here are extracted all clients\n",
    "\n",
    "**Note:** Output can be further analysed for better organisation and potential deduplication|"
   ]
  },
  {
   "cell_type": "markdown",
   "id": "6c7d128a-79c6-43fb-be76-fc16d1649f25",
   "metadata": {},
   "source": [
    "#### Requirements:\n",
    "***config*** file with Meraki API key should be added in the working directory\n",
    "</br>Format:\n",
    "```json\n",
    "    {\"meraki_api_key\" : \"__API_KEY__\"}\n",
    "```"
   ]
  },
  {
   "cell_type": "code",
   "execution_count": null,
   "id": "744b6f10-37c6-4f19-b1ce-bfee7a9110b8",
   "metadata": {},
   "outputs": [
    {
     "name": "stdout",
     "output_type": "stream",
     "text": [
      "Hiccup while listing all clients 400\n",
      "Hiccup while listing all clients 400\n"
     ]
    }
   ],
   "source": [
    "#!/usr/bin/env python3\n",
    "\n",
    "import os\n",
    "import sys\n",
    "import time\n",
    "import json\n",
    "\n",
    "import requests\n",
    "\n",
    "#start = time.time()\n",
    "\n",
    "# GET CONFIGURATION\n",
    "conf_file = 'config'\n",
    "if os.path.exists(conf_file):\n",
    "  config = json.loads(open(conf_file).read())\n",
    "else:\n",
    "  sys.exit(2)\n",
    "\n",
    "# BASE PARAMETERS\n",
    "merkai_base_url = 'https://api.meraki.com/api/v1'\n",
    "meraki_api_key = config['meraki_api_key']\n",
    "header = {'X-Cisco-Meraki-API-Key':meraki_api_key}\n",
    "\n",
    "# RESULT\n",
    "organisations = []\n",
    "networks = []\n",
    "clients = []\n",
    "devices = []\n",
    "all_clients = []\n",
    "\n",
    "# LIST ALL ORGANISATIONS\n",
    "list_organisations_ep = '/organizations'\n",
    "try:\n",
    "  org_req = requests.get(f'{merkai_base_url}{list_organisations_ep}', headers=header)\n",
    "  org_data = org_req.json()\n",
    "\n",
    "  if org_data != None:\n",
    "    for org in org_data:\n",
    "      if org != None:\n",
    "        org_id = org['id']\n",
    "        org_name = org['name']\n",
    "\n",
    "        #print(org_name, org_id)\n",
    "\n",
    "        # LIST ALL NETWORKS FOR EACH ORGANISATION\n",
    "        list_networks_ep = f'/organizations/{org_id}/networks'\n",
    "        try:\n",
    "          network_req = requests.get(f'{merkai_base_url}{list_networks_ep}', headers=header)\n",
    "          network_data = network_req.json()\n",
    "          \n",
    "          if network_data != None:\n",
    "            for network in network_data:\n",
    "              if network != None:\n",
    "                network_id = network['id']\n",
    "                network_name = network['name']\n",
    "\n",
    "                #print(network_name, network_id)\n",
    "\n",
    "                #LIST ALL DEVICES FOR EACH NETWORK\n",
    "                list_deviced_ep = f'/networks/{network_id}/devices'\n",
    "                try:\n",
    "                  devices_req = requests.get(f'{merkai_base_url}{list_deviced_ep}', headers=header)\n",
    "                  devices_data = devices_req.json()\n",
    "                  \n",
    "                  if devices_data != None:\n",
    "                    for device in devices_data:\n",
    "                      if device != None:\n",
    "                        device_serial = device['serial']\n",
    "                        if 'name' in device:\n",
    "                          device_name = device['name']\n",
    "                        else:\n",
    "                          device_name = 'unknown' \n",
    "\n",
    "                        #print(device_name, device_serial)\n",
    "\n",
    "                        #LIST ALL CLIENTS FOR EACH DEVICE\n",
    "                        list_all_clients_ep = f'/devices/{device_serial}/clients'\n",
    "                        try:\n",
    "                          clients_req = requests.get(f'{merkai_base_url}{list_all_clients_ep}', headers=header)\n",
    "                          clients_data = clients_req.json()\n",
    "                          \n",
    "                          if clients_data != None:\n",
    "                            for client in clients_data:\n",
    "                              if client != None:\n",
    "                                client_id = client['id']\n",
    "                                client_mac = client['mac']\n",
    "                                client_description = 'none'\n",
    "                                if 'description' in  client:\n",
    "                                  client_description = client['description']\n",
    "                                clients.append({'id':client_id, 'mac':client_mac, 'description':client_description})\n",
    "                                all_clients.append({'id':client_id, 'mac':client_mac, 'description':client_description})\n",
    "\n",
    "                                #print(client_id, client_mac, client_description)\n",
    "                        except:\n",
    "                          print('Hiccup while listing all clients', clients_req.status_code)\n",
    "\n",
    "                        devices.append({'serial':device_serial, 'name':device_name, 'clients':clients})\n",
    "                        clients = []\n",
    "                except:\n",
    "                  print('Hiccup while listing all devices', devices_req.status_code)  \n",
    "\n",
    "                networks.append({'id':network_id, 'name':network_name, 'devices':devices})\n",
    "                devices = []    \n",
    "        except:\n",
    "          print('Hiccup while listing all networks', network_req.status_code)\n",
    "\n",
    "        organisations.append({'id':org_id, 'name':org_name, 'networks':networks})\n",
    "        networks = []\n",
    "except:\n",
    "  print('Hiccup while listing all organisations', org_req.status_code)\n",
    "\n",
    "with open ('output.json', 'w') as otp:\n",
    "  json.dump(organisations, otp)\n",
    "\n",
    "with open ('all_clients_output.json', 'w') as otp:\n",
    "  json.dump(all_clients, otp)\n",
    "\n",
    "#end = time.time()\n",
    "#print(f'Execution time: {end-start}')"
   ]
  }
 ],
 "metadata": {
  "kernelspec": {
   "display_name": "Python 3 (ipykernel)",
   "language": "python",
   "name": "python3"
  },
  "language_info": {
   "codemirror_mode": {
    "name": "ipython",
    "version": 3
   },
   "file_extension": ".py",
   "mimetype": "text/x-python",
   "name": "python",
   "nbconvert_exporter": "python",
   "pygments_lexer": "ipython3",
   "version": "3.9.10"
  }
 },
 "nbformat": 4,
 "nbformat_minor": 5
}
